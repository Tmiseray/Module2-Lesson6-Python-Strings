{
 "cells": [
  {
   "cell_type": "code",
   "execution_count": null,
   "metadata": {},
   "outputs": [],
   "source": [
    "# 2. User Input Data Processor\n",
    "# Objective: The aim of this assignment is to process and format user input data.\n",
    "\n",
    "# Task 1: Input Length Validator \n",
    "# Write a script that asks for and checks the length of the user's first name and last name. \n",
    "# Both should be at least 2 characters long. If not, print an error message."
   ]
  },
  {
   "cell_type": "code",
   "execution_count": 11,
   "metadata": {},
   "outputs": [
    {
     "name": "stdout",
     "output_type": "stream",
     "text": [
      "Both names are of valid length!\n"
     ]
    }
   ],
   "source": [
    "def length_validator():\n",
    "    first = input(\"Enter your first name: \")\n",
    "    last = input(\"Enter your last name: \")\n",
    "    if len(first) < 2:\n",
    "        print(\"Error: First name must be at least 2 characters.\")\n",
    "    elif len(last) < 2:\n",
    "        print(\"Error: Last name must be longer than 2 characters.\")\n",
    "    else:\n",
    "        print(\"Both names are of valid length!\")\n",
    "\n",
    "length_validator()"
   ]
  },
  {
   "cell_type": "code",
   "execution_count": null,
   "metadata": {},
   "outputs": [],
   "source": []
  }
 ],
 "metadata": {
  "kernelspec": {
   "display_name": "Python 3",
   "language": "python",
   "name": "python3"
  },
  "language_info": {
   "codemirror_mode": {
    "name": "ipython",
    "version": 3
   },
   "file_extension": ".py",
   "mimetype": "text/x-python",
   "name": "python",
   "nbconvert_exporter": "python",
   "pygments_lexer": "ipython3",
   "version": "3.12.4"
  }
 },
 "nbformat": 4,
 "nbformat_minor": 2
}
