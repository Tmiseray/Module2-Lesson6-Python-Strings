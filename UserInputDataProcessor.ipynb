{
 "cells": [
  {
   "cell_type": "code",
   "execution_count": null,
   "metadata": {},
   "outputs": [],
   "source": [
    "# 2. User Input Data Processor\n",
    "# Objective: The aim of this assignment is to process and format user input data.\n",
    "\n",
    "# Task 1: Input Length Validator Write a script that asks for and checks the length of the user's first name and last name. \n",
    "# Both should be at least 2 characters long. If not, print an error message."
   ]
  },
  {
   "cell_type": "code",
   "execution_count": null,
   "metadata": {},
   "outputs": [],
   "source": []
  }
 ],
 "metadata": {
  "language_info": {
   "name": "python"
  }
 },
 "nbformat": 4,
 "nbformat_minor": 2
}
