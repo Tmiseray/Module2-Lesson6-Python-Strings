{
 "cells": [
  {
   "cell_type": "code",
   "execution_count": null,
   "metadata": {},
   "outputs": [],
   "source": [
    "# 1. Product Review Analysis\n",
    "# Task 1: Keyword Highlighter\n",
    "\n",
    "# Write a program that searches through reviews list and looks for keywords such as \"good\", \"excellent\", \"bad\", \"poor\", and \"average\". \n",
    "# We want you to capitalize those keywords then print out each review. \n",
    "# Print out each review with the keywords in uppercase so they stand out.\n",
    "\n",
    "#     reviews = [\n",
    "#         \"This product is really good. I'm impressed with its quality.\",\n",
    "#         \"The performance of this product is excellent. Highly recommended!\",\n",
    "#         \"I had a bad experience with this product. It didn't meet my expectations.\",\n",
    "#         \"Poor quality product. Wouldn't recommend it to anyone.\",\n",
    "#         \"The product was average. Nothing extraordinary about it.\"\n",
    "#     ]\n",
    "\n",
    "# So for the first string in the reviews list, we want it to say: \"This product is really GOOD. I'm impressed with its quality.\"\n",
    "\n",
    "# Task 2: Sentiment Tally\n",
    "\n",
    "# Develop a function that tallies the number of positive and negative words in each review.  \n",
    "# The function should return the total count of positive and negative words.\n",
    "\n",
    "#     positive_words = [\"good\", \"excellent\", \"great\", \"awesome\", \"fantastic\", \"superb\", \"amazing\"]\n",
    "#     negative_words = [\"bad\", \"poor\", \"terrible\", \"horrible\", \"awful\", \"disappointing\", \"subpar\"]\n",
    "\n",
    "# Task 3: Review Summary\n",
    "\n",
    "# Implement a script that takes the first 30 characters of a review and appends \"…\" to create a summary. \n",
    "# Ensure that the summary does not cut off in the middle of a word.\n",
    "\n",
    "# Example: \"This product is really good. I'm...\","
   ]
  },
  {
   "cell_type": "code",
   "execution_count": null,
   "metadata": {},
   "outputs": [],
   "source": []
  }
 ],
 "metadata": {
  "language_info": {
   "name": "python"
  }
 },
 "nbformat": 4,
 "nbformat_minor": 2
}
